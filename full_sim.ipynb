{
 "cells": [
  {
   "cell_type": "code",
   "execution_count": 1,
   "metadata": {},
   "outputs": [
    {
     "data": {
      "text/plain": [
       "'\\nReferences:\\n\\n'"
      ]
     },
     "execution_count": 1,
     "metadata": {},
     "output_type": "execute_result"
    }
   ],
   "source": [
    "# GROUP 2 CODE\n",
    "# Members: Amiri, Ebru, Madison, Cailyn\n",
    "# Github: https://github.com/AmiriHayes/rockphysicsproject\n",
    "\n",
    "\"\"\"\n",
    "Goals: \n",
    "- Develop simulated 3D data to work with [✓]\n",
    "- Simplify dataset (into graph network) [✓]\n",
    "- Predict fluid flow on simulated data [✓]\n",
    "\n",
    "To install, run \"pip install -r requirements.txt\" in terminal \n",
    "Then ensure you use \"pip install git+https://github.com/PMEAL/porespy.git@dev\" to install latest porespy!\n",
    "\n",
    "Code References:\n",
    "1. polydisperse_spheres: https://porespy.org/examples/generators/reference/polydisperse_spheres.html\n",
    "2. open_pnm_to_im: https://porespy.org/modules/generated/generated/porespy.io.openpnm_to_im.html\n",
    "3. predict fluid flow: https://openpnm.org/examples/applications/network_extraction.html\n",
    "\n",
    "\"\"\""
   ]
  },
  {
   "cell_type": "code",
   "execution_count": null,
   "metadata": {},
   "outputs": [],
   "source": [
    "# imports:\n",
    "\n",
    "import numpy as np\n",
    "import porespy\n",
    "import openpnm as op\n",
    "import matplotlib.pyplot as plt\n",
    "from tqdm import tqdm\n",
    "ps.visualization.set_mpl_style()\n",
    "np.random.seed(10)"
   ]
  },
  {
   "cell_type": "code",
   "execution_count": 9,
   "metadata": {},
   "outputs": [],
   "source": [
    "# pore-reduction:\n",
    "\n",
    "im = ps.generators.blobs(shape=[400, 400], porosity=0.6, blobiness=2)\n",
    "fig, ax = plt.subplots(figsize=(4, 4))\n",
    "ax.imshow(im)\n",
    "\n",
    "snow_output = ps.networks.snow2(im, voxel_size=1)"
   ]
  },
  {
   "cell_type": "code",
   "execution_count": null,
   "metadata": {},
   "outputs": [],
   "source": [
    "# convert to openim graph network:\n",
    "\n",
    "pn = op.io.network_from_porespy(snow_output.network)\n",
    "\n",
    "fig, ax = plt.subplots(figsize=[5, 5])\n",
    "ax.imshow(im.T, cmap=plt.cm.bone)\n",
    "op.visualization.plot_coordinates(ax=fig,\n",
    "                                  network=pn,\n",
    "                                  size_by=pn[\"pore.inscribed_diameter\"],\n",
    "                                  color_by=pn[\"pore.inscribed_diameter\"],\n",
    "                                  markersize=200)\n",
    "op.visualization.plot_connections(network=pn, ax=fig)\n",
    "ax.axis(\"off\")"
   ]
  },
  {
   "cell_type": "code",
   "execution_count": null,
   "metadata": {},
   "outputs": [],
   "source": [
    "data = {\n",
    "    'shape': {\n",
    "        'x': im.shape[0],\n",
    "        'y': im.shape[1],\n",
    "        # 'z': im.shape[2],\n",
    "    },\n",
    "    'resolution': 5.345e-6,\n",
    "    'porosity': 19.6,\n",
    "    'permeability': {\n",
    "        'Kx': 1360,\n",
    "        'Ky': 1304,\n",
    "        'Kz': 1193,\n",
    "        'Kave': 1286,\n",
    "    },\n",
    "    'formation factor': {\n",
    "        'Fx': 23.12,\n",
    "        'Fy': 23.99,\n",
    "        'Fz': 25.22,\n",
    "        'Fave': 24.08,\n",
    "    },\n",
    "}"
   ]
  },
  {
   "cell_type": "code",
   "execution_count": null,
   "metadata": {},
   "outputs": [],
   "source": [
    "# define network statististics\n",
    "\n",
    "pn['pore.diameter'] = pn['pore.equivalent_diameter']\n",
    "pn['throat.diameter'] = pn['throat.inscribed_diameter']\n",
    "pn['throat.spacing'] = pn['throat.total_length']\n",
    "\n",
    "pn.add_model(propname='throat.hydraulic_size_factors',\n",
    "             model=op.models.geometry.hydraulic_size_factors.pyramids_and_cuboids)\n",
    "pn.add_model(propname='throat.diffusive_size_factors',\n",
    "             model=op.models.geometry.diffusive_size_factors.pyramids_and_cuboids)\n",
    "pn.regenerate_models()"
   ]
  },
  {
   "cell_type": "code",
   "execution_count": null,
   "metadata": {},
   "outputs": [],
   "source": [
    "# check network is valid\n",
    "\n",
    "h = op.utils.check_network_health(pn)\n",
    "print(h)\n",
    "\n",
    "op.topotools.trim(network=pn, pores=h['disconnected_pores'])\n",
    "h = op.utils.check_network_health(pn)\n",
    "print(h)"
   ]
  },
  {
   "cell_type": "code",
   "execution_count": null,
   "metadata": {},
   "outputs": [],
   "source": [
    "# define necessary gas / liquid properties and physics models \n",
    "\n",
    "gas = op.phase.Phase(network=pn)\n",
    "gas['pore.diffusivity'] = 1.0\n",
    "gas['pore.viscosity'] = 1.0\n",
    "gas['throat.entry_pressure'] = 0\n",
    "gas['throat.surface_tension'] = 1.0\n",
    "gas['throat.contact_angle'] = 0\n",
    "\n",
    "gas.add_model(propname=\"pore.viscosity\", model=op.models.misc.constant, value=1.0)\n",
    "gas.add_model(propname=\"pore.diffusivity\", model=op.models.misc.constant, value=1.0)\n",
    "gas.add_model(\n",
    "    propname=\"throat.diffusive_conductance\",\n",
    "    model=op.models.misc.constant, value=1.0\n",
    ")"
   ]
  },
  {
   "cell_type": "code",
   "execution_count": null,
   "metadata": {},
   "outputs": [],
   "source": [
    "# calculate the flow through simulated dataset\n",
    "\n",
    "fd = op.algorithms.FickianDiffusion(network=pn, phase=gas)\n",
    "fd.set_value_BC(pores=pn.pores('xmin'), values=1.0)\n",
    "fd.set_value_BC(pores=pn.pores('xmax'), values=0.0)\n",
    "fd.run()\n",
    "\n",
    "dC = 1.0\n",
    "L = (data['shape']['x'] + 6) * data['resolution']\n",
    "A = data['shape']['y'] * data['shape']['z'] * data['resolution']**2\n",
    "Deff = fd.rate(pores=pn.pores('xmin')) * (L / A) / dC\n",
    "F = 1 / Deff\n",
    "\n",
    "print(f\"The Formation factor of the extracted network is {F[0]}\")\n",
    "print(f\"This compares to a value of {data['formation factor']['Fx']} from DNS\")\n",
    "np.testing.assert_allclose(F, data['formation factor']['Fx'], rtol=0.09)"
   ]
  }
 ],
 "metadata": {
  "kernelspec": {
   "display_name": "porespy_env",
   "language": "python",
   "name": "python3"
  },
  "language_info": {
   "codemirror_mode": {
    "name": "ipython",
    "version": 3
   },
   "file_extension": ".py",
   "mimetype": "text/x-python",
   "name": "python",
   "nbconvert_exporter": "python",
   "pygments_lexer": "ipython3",
   "version": "3.11.9"
  }
 },
 "nbformat": 4,
 "nbformat_minor": 2
}
